{
 "cells": [
  {
   "cell_type": "code",
   "execution_count": 1,
   "metadata": {
    "ExecuteTime": {
     "end_time": "2020-02-04T11:39:46.186854Z",
     "start_time": "2020-02-04T11:39:45.992238Z"
    }
   },
   "outputs": [],
   "source": [
    "# autoreload nangs\n",
    "%reload_ext autoreload\n",
    "%autoreload 2\n",
    "%matplotlib inline"
   ]
  },
  {
   "cell_type": "code",
   "execution_count": 2,
   "metadata": {
    "ExecuteTime": {
     "end_time": "2020-02-04T11:39:46.369836Z",
     "start_time": "2020-02-04T11:39:46.188544Z"
    }
   },
   "outputs": [],
   "source": [
    "#imports\n",
    "import math\n",
    "import numpy as np \n",
    "import matplotlib.pyplot as plt \n",
    "import torch"
   ]
  },
  {
   "cell_type": "code",
   "execution_count": 3,
   "metadata": {
    "ExecuteTime": {
     "end_time": "2020-02-04T11:39:46.382861Z",
     "start_time": "2020-02-04T11:39:46.371091Z"
    }
   },
   "outputs": [],
   "source": [
    "from nangs.pde import PDE\n",
    "from nangs.bocos import PeriodicBoco, DirichletBoco, NeumannBoco\n",
    "from nangs.solutions import MLP\n",
    "\n",
    "class MyPDE(PDE):\n",
    "    def __init__(self, inputs=None, outputs=None, order=2):\n",
    "        super().__init__(inputs, outputs, order=order)\n",
    "    def computePDELoss(self, grads, inputs, outputs, params): \n",
    "        dpdt = grads['p']['t']\n",
    "        d2pdx2 = grads['2p']['xx']\n",
    "        return [dpdt - d2pdx2]\n",
    "    \n",
    "# instanciate pde\n",
    "pde = MyPDE(inputs=['x', 't'], outputs=['p'])\n",
    "\n",
    "# define input values\n",
    "x = np.linspace(0,0.3,10)\n",
    "\n",
    "t = np.linspace(0,200,100)\n",
    "\n",
    "pde.setValues({'x': x, 't': t})"
   ]
  },
  {
   "cell_type": "code",
   "execution_count": 13,
   "metadata": {
    "ExecuteTime": {
     "end_time": "2020-02-04T11:39:46.395261Z",
     "start_time": "2020-02-04T11:39:46.383963Z"
    }
   },
   "outputs": [],
   "source": [
    "# initial condition (dirichlet for temporal dimension)\n",
    "p0 = np.full(len(x[1:-1]), 0.2)       \n",
    "boco = DirichletBoco('initial_condition', {'x': x[1:-1], 't': np.array([0])}, {'p': p0})\n",
    "pde.addBoco(boco)\n",
    "\n",
    "\n",
    "\n",
    "boco = DirichletBoco('left', {'x': x[:1], 't': t}, {'p': np.full(len(t), 1.0)})\n",
    "pde.addBoco(boco)\n",
    "\n",
    "boco = DirichletBoco('right', {'x': x[-1:], 't': t}, {'p': np.full(len(t), 0.1)})\n",
    "pde.addBoco(boco)"
   ]
  },
  {
   "cell_type": "code",
   "execution_count": 15,
   "metadata": {
    "ExecuteTime": {
     "end_time": "2020-02-04T11:39:46.533901Z",
     "start_time": "2020-02-04T11:39:46.396074Z"
    }
   },
   "outputs": [
    {
     "data": {
      "image/png": "[encoded data removed]",
      "text/plain": [
       "<Figure size 432x288 with 2 Axes>"
      ]
     },
     "metadata": {
      "needs_background": "light"
     },
     "output_type": "display_data"
    }
   ],
   "source": [
    "from mpl_toolkits.mplot3d import Axes3D\n",
    "import matplotlib.pyplot as plt\n",
    "from matplotlib import cm\n",
    "\n",
    "fig = plt.figure()\n",
    "ax = fig.gca(projection='3d')\n",
    "X, Y = np.meshgrid(x[1:-1], y[1:-1])\n",
    "surf = ax.plot_surface(X, Y, p0.reshape((len(y[1:-1]),len(x[1:-1]))), cmap=cm.coolwarm, linewidth=0, antialiased=False)\n",
    "fig.colorbar(surf, shrink=0.5, aspect=5)\n",
    "plt.show()"
   ]
  },
  {
   "cell_type": "code",
   "execution_count": 14,
   "metadata": {
    "ExecuteTime": {
     "end_time": "2020-02-04T11:39:46.549545Z",
     "start_time": "2020-02-04T11:39:46.536217Z"
    }
   },
   "outputs": [],
   "source": [
    "# define solution topology\n",
    "mlp = MLP(pde.n_inputs, pde.n_outputs, 5, 256)\n",
    "optimizer = torch.optim.Adam(mlp.parameters(), lr=3e-4)\n",
    "pde.compile(mlp, optimizer)"
   ]
  },
  {
   "cell_type": "code",
   "execution_count": 15,
   "metadata": {
    "ExecuteTime": {
     "end_time": "2020-02-04T11:41:57.378328Z",
     "start_time": "2020-02-04T11:39:46.550515Z"
    }
   },
   "outputs": [
    {
     "data": {
      "text/html": [
       "Epoch 1/20 Losses 0.80174 \n",
       " PDE  [ 0.00137 ] \n",
       " initial_condition 0.00893\n",
       " left 0.21663\n",
       " right 0.17462\n",
       " initial_condition 0.00893\n",
       " left 0.21663\n",
       " right 0.17462<p>Epoch 2/20 Losses 0.58136 \n",
       " PDE  [ 0.00193 ] \n",
       " initial_condition 0.00011\n",
       " left 0.13347\n",
       " right 0.15613\n",
       " initial_condition 0.00011\n",
       " left 0.13347\n",
       " right 0.15613<p>Epoch 3/20 Losses 0.57691 \n",
       " PDE  [ 0.00083 ] \n",
       " initial_condition 0.00012\n",
       " left 0.12726\n",
       " right 0.16067\n",
       " initial_condition 0.00012\n",
       " left 0.12726\n",
       " right 0.16067<p>Epoch 4/20 Losses 0.57578 \n",
       " PDE  [ 0.00058 ] \n",
       " initial_condition 0.00013\n",
       " left 0.12789\n",
       " right 0.15958\n",
       " initial_condition 0.00013\n",
       " left 0.12789\n",
       " right 0.15958<p>Epoch 5/20 Losses 0.56055 \n",
       " PDE  [ 0.00343 ] \n",
       " initial_condition 0.00047\n",
       " left 0.12355\n",
       " right 0.15454\n",
       " initial_condition 0.00047\n",
       " left 0.12355\n",
       " right 0.15454<p>Epoch 6/20 Losses 0.54380 \n",
       " PDE  [ 0.01911 ] \n",
       " initial_condition 0.00180\n",
       " left 0.11296\n",
       " right 0.14758\n",
       " initial_condition 0.00180\n",
       " left 0.11296\n",
       " right 0.14758<p>Epoch 7/20 Losses 0.53221 \n",
       " PDE  [ 0.02074 ] \n",
       " initial_condition 0.00165\n",
       " left 0.10897\n",
       " right 0.14511\n",
       " initial_condition 0.00165\n",
       " left 0.10897\n",
       " right 0.14511<p>Epoch 8/20 Losses 0.54307 \n",
       " PDE  [ 0.01945 ] \n",
       " initial_condition 0.00146\n",
       " left 0.11267\n",
       " right 0.14767\n",
       " initial_condition 0.00146\n",
       " left 0.11267\n",
       " right 0.14767<p>Epoch 9/20 Losses 0.53574 \n",
       " PDE  [ 0.02191 ] \n",
       " initial_condition 0.00073\n",
       " left 0.11100\n",
       " right 0.14519\n",
       " initial_condition 0.00073\n",
       " left 0.11100\n",
       " right 0.14519<p>Epoch 10/20 Losses 0.54871 \n",
       " PDE  [ 0.01579 ] \n",
       " initial_condition 0.00058\n",
       " left 0.11543\n",
       " right 0.15044\n",
       " initial_condition 0.00058\n",
       " left 0.11543\n",
       " right 0.15044<p>Epoch 11/20 Losses 0.53013 \n",
       " PDE  [ 0.02526 ] \n",
       " initial_condition 0.00052\n",
       " left 0.10952\n",
       " right 0.14239\n",
       " initial_condition 0.00052\n",
       " left 0.10952\n",
       " right 0.14239<p>Epoch 12/20 Losses 0.52518 \n",
       " PDE  [ 0.02398 ] \n",
       " initial_condition 0.00065\n",
       " left 0.10576\n",
       " right 0.14419\n",
       " initial_condition 0.00065\n",
       " left 0.10576\n",
       " right 0.14419<p>Epoch 13/20 Losses 0.52021 \n",
       " PDE  [ 0.03086 ] \n",
       " initial_condition 0.00052\n",
       " left 0.10539\n",
       " right 0.13877\n",
       " initial_condition 0.00052\n",
       " left 0.10539\n",
       " right 0.13877<p>Epoch 14/20 Losses 0.53011 \n",
       " PDE  [ 0.02644 ] \n",
       " initial_condition 0.00061\n",
       " left 0.10989\n",
       " right 0.14133\n",
       " initial_condition 0.00061\n",
       " left 0.10989\n",
       " right 0.14133<p>Epoch 15/20 Losses 0.53254 \n",
       " PDE  [ 0.02630 ] \n",
       " initial_condition 0.00064\n",
       " left 0.10632\n",
       " right 0.14616\n",
       " initial_condition 0.00064\n",
       " left 0.10632\n",
       " right 0.14616<p>Epoch 16/20 Losses 0.52234 \n",
       " PDE  [ 0.02749 ] \n",
       " initial_condition 0.00057\n",
       " left 0.10790\n",
       " right 0.13896\n",
       " initial_condition 0.00057\n",
       " left 0.10790\n",
       " right 0.13896<p>Epoch 17/20 Losses 0.52842 \n",
       " PDE  [ 0.02846 ] \n",
       " initial_condition 0.00052\n",
       " left 0.10716\n",
       " right 0.14229\n",
       " initial_condition 0.00052\n",
       " left 0.10716\n",
       " right 0.14229<p>Epoch 18/20 Losses 0.52120 \n",
       " PDE  [ 0.02627 ] \n",
       " initial_condition 0.00034\n",
       " left 0.10589\n",
       " right 0.14123\n",
       " initial_condition 0.00034\n",
       " left 0.10589\n",
       " right 0.14123<p>Epoch 19/20 Losses 0.51232 \n",
       " PDE  [ 0.03611 ] \n",
       " initial_condition 0.00057\n",
       " left 0.10202\n",
       " right 0.13551\n",
       " initial_condition 0.00057\n",
       " left 0.10202\n",
       " right 0.13551<p>Epoch 20/20 Losses 0.51367 \n",
       " PDE  [ 0.03379 ] \n",
       " initial_condition 0.00031\n",
       " left 0.10266\n",
       " right 0.13697\n",
       " initial_condition 0.00031\n",
       " left 0.10266\n",
       " right 0.13697"
      ],
      "text/plain": [
       "<IPython.core.display.HTML object>"
      ]
     },
     "metadata": {},
     "output_type": "display_data"
    },
    {
     "name": "stderr",
     "output_type": "stream",
     "text": [
      "/home/sebastianm/.local/lib/python3.7/site-packages/numpy/core/fromnumeric.py:3257: RuntimeWarning: Mean of empty slice.\n",
      "  out=out, **kwargs)\n",
      "/home/sebastianm/.local/lib/python3.7/site-packages/numpy/core/_methods.py:161: RuntimeWarning: invalid value encountered in double_scalars\n",
      "  ret = ret.dtype.type(ret / rcount)\n"
     ]
    }
   ],
   "source": [
    "# find the solution\n",
    "hist = pde.solve(epochs=20) "
   ]
  },
  {
   "cell_type": "code",
   "execution_count": 7,
   "metadata": {
    "ExecuteTime": {
     "end_time": "2020-02-04T11:41:57.866346Z",
     "start_time": "2020-02-04T11:41:57.379530Z"
    },
    "scrolled": true
   },
   "outputs": [
    {
     "data": {
      "image/png": "[encoded data removed]",
      "text/plain": [
       "<Figure size 1080x360 with 2 Axes>"
      ]
     },
     "metadata": {
      "needs_background": "light"
     },
     "output_type": "display_data"
    }
   ],
   "source": [
    "fig, (ax1, ax2) = plt.subplots(1, 2, figsize=(15,5))\n",
    "ax1.plot(hist['train_loss'], label=\"train_loss\")\n",
    "ax1.grid(True)\n",
    "ax1.legend()\n",
    "ax1.set_yscale(\"log\")\n",
    "for boco in pde.bocos:\n",
    "    ax2.plot(hist['bocos'][boco.name], label=boco.name)\n",
    "ax2.legend()\n",
    "ax2.grid(True)\n",
    "ax2.set_yscale(\"log\")\n",
    "plt.show()"
   ]
  },
  {
   "cell_type": "code",
   "execution_count": 17,
   "metadata": {
    "ExecuteTime": {
     "end_time": "2020-02-04T11:42:10.188728Z",
     "start_time": "2020-02-04T11:41:57.867642Z"
    }
   },
   "outputs": [],
   "source": [
    "# evaluate the solution\n",
    "x = np.linspace(0,0.3,10)\n",
    "\n",
    "t = np.linspace(0,200,100)\n",
    "p = []\n",
    "for _t in t:\n",
    "    pde.evaluate({'x': x, 't': np.array([_t])})\n",
    "    _p = pde.outputs['p']\n",
    "    p.append(_p)\n",
    "\n",
    "a = p[0]\n",
    "file = open(\"testfile1D.txt\",\"w\")\n",
    "s = 0\n",
    "for i in range(0,10):\n",
    "    file.write(str(i)+\", \"+str(a[s])+\"\\n\")\n",
    "    s+=1\n",
    "file.close() "
   ]
  },
  {
   "cell_type": "code",
   "execution_count": 9,
   "metadata": {
    "ExecuteTime": {
     "end_time": "2020-02-04T11:42:15.058834Z",
     "start_time": "2020-02-04T11:42:10.189953Z"
    }
   },
   "outputs": [
    {
     "ename": "NameError",
     "evalue": "name 'anim' is not defined",
     "output_type": "error",
     "traceback": [
      "\u001b[0;31m---------------------------------------------------------------------------\u001b[0m",
      "\u001b[0;31mNameError\u001b[0m                                 Traceback (most recent call last)",
      "\u001b[0;32m<ipython-input-9-027b5d0310db>\u001b[0m in \u001b[0;36m<module>\u001b[0;34m\u001b[0m\n\u001b[0;32m----> 1\u001b[0;31m \u001b[0manim\u001b[0m\u001b[0;34m\u001b[0m\u001b[0;34m\u001b[0m\u001b[0m\n\u001b[0m",
      "\u001b[0;31mNameError\u001b[0m: name 'anim' is not defined"
     ]
    }
   ],
   "source": [
    "anim"
   ]
  },
  {
   "cell_type": "code",
   "execution_count": 17,
   "metadata": {},
   "outputs": [
    {
     "name": "stdout",
     "output_type": "stream",
     "text": [
      "(100, 400)\n"
     ]
    }
   ],
   "source": [
    "print(np.shape(p))"
   ]
  },
  {
   "cell_type": "code",
   "execution_count": null,
   "metadata": {},
   "outputs": [],
   "source": []
  }
 ],
 "metadata": {
  "kernelspec": {
   "display_name": "Python 3",
   "language": "python",
   "name": "python3"
  },
  "language_info": {
   "codemirror_mode": {
    "name": "ipython",
    "version": 3
   },
   "file_extension": ".py",
   "mimetype": "text/x-python",
   "name": "python",
   "nbconvert_exporter": "python",
   "pygments_lexer": "ipython3",
   "version": "3.7.4"
  }
 },
 "nbformat": 4,
 "nbformat_minor": 2
}
