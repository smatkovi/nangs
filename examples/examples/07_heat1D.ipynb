{
 "cells": [
  {
   "cell_type": "code",
   "execution_count": 1,
   "metadata": {
    "ExecuteTime": {
     "end_time": "2020-02-04T11:39:46.186854Z",
     "start_time": "2020-02-04T11:39:45.992238Z"
    }
   },
   "outputs": [],
   "source": [
    "# autoreload nangs\n",
    "%reload_ext autoreload\n",
    "%autoreload 2\n",
    "%matplotlib inline"
   ]
  },
  {
   "cell_type": "code",
   "execution_count": 2,
   "metadata": {
    "ExecuteTime": {
     "end_time": "2020-02-04T11:39:46.369836Z",
     "start_time": "2020-02-04T11:39:46.188544Z"
    }
   },
   "outputs": [],
   "source": [
    "#imports\n",
    "import math\n",
    "import numpy as np \n",
    "import matplotlib.pyplot as plt \n",
    "import torch"
   ]
  },
  {
   "cell_type": "code",
   "execution_count": 3,
   "metadata": {
    "ExecuteTime": {
     "end_time": "2020-02-04T11:39:46.382861Z",
     "start_time": "2020-02-04T11:39:46.371091Z"
    }
   },
   "outputs": [],
   "source": [
    "from nangs.pde import PDE\n",
    "from nangs.bocos import PeriodicBoco, DirichletBoco, NeumannBoco\n",
    "from nangs.solutions import MLP\n",
    "\n",
    "class MyPDE(PDE):\n",
    "    def __init__(self, inputs=None, outputs=None, order=2):\n",
    "        super().__init__(inputs, outputs, order=order)\n",
    "    def computePDELoss(self, grads, inputs, outputs, params): \n",
    "        dpdt = grads['p']['t']\n",
    "        d2pdx2 = grads['2p']['xx']\n",
    "        return [dpdt - d2pdx2]\n",
    "    \n",
    "# instanciate pde\n",
    "pde = MyPDE(inputs=['x', 't'], outputs=['p'])\n",
    "\n",
    "# define input values\n",
    "x = np.linspace(0, 1, 10)\n",
    "\n",
    "t = np.linspace(0, 10, 10)\n",
    "\n",
    "pde.setValues({'x': x, 't': t})"
   ]
  },
  {
   "cell_type": "code",
   "execution_count": 4,
   "metadata": {
    "ExecuteTime": {
     "end_time": "2020-02-04T11:39:46.395261Z",
     "start_time": "2020-02-04T11:39:46.383963Z"
    }
   },
   "outputs": [],
   "source": [
    "# initial condition (dirichlet for temporal dimension)\n",
    "p0 = np.full(len(x[1:-1]), 0)       \n",
    "boco = DirichletBoco('initial_condition', {'x': x[1:-1], 't': np.array([0])}, {'p': p0})\n",
    "pde.addBoco(boco)\n",
    "\n",
    "\n",
    "\n",
    "boco = DirichletBoco('left', {'x': x[:1], 't': t}, {'p': np.full(len(t), 0.0)})\n",
    "pde.addBoco(boco)\n",
    "\n",
    "boco = DirichletBoco('right', {'x': x[-1:], 't': t}, {'p': np.full(len(t), 1.0)})\n",
    "pde.addBoco(boco)"
   ]
  },
  {
   "cell_type": "code",
   "execution_count": 5,
   "metadata": {
    "ExecuteTime": {
     "end_time": "2020-02-04T11:39:46.549545Z",
     "start_time": "2020-02-04T11:39:46.536217Z"
    }
   },
   "outputs": [],
   "source": [
    "# define solution topology\n",
    "mlp = MLP(pde.n_inputs, pde.n_outputs, 5, 256)\n",
    "optimizer = torch.optim.Adam(mlp.parameters(), lr=3e-4)\n",
    "pde.compile(mlp, optimizer)"
   ]
  },
  {
   "cell_type": "code",
   "execution_count": 6,
   "metadata": {
    "ExecuteTime": {
     "end_time": "2020-02-04T11:41:57.378328Z",
     "start_time": "2020-02-04T11:39:46.550515Z"
    }
   },
   "outputs": [
    {
     "data": {
      "text/html": [
       "Epoch 1/50 Losses 0.79572 \n",
       " PDE  [ 0.00073 ] \n",
       " initial_condition 0.00576\n",
       " left 0.02701\n",
       " right 0.76221<p>Epoch 2/50 Losses 0.58144 \n",
       " PDE  [ 0.01379 ] \n",
       " initial_condition 0.05008\n",
       " left 0.24064\n",
       " right 0.27693<p>Epoch 3/50 Losses 0.54784 \n",
       " PDE  [ 0.01374 ] \n",
       " initial_condition 0.03369\n",
       " left 0.27662\n",
       " right 0.22379<p>Epoch 4/50 Losses 0.51131 \n",
       " PDE  [ 0.00622 ] \n",
       " initial_condition 0.00737\n",
       " left 0.12861\n",
       " right 0.36911<p>Epoch 5/50 Losses 0.46699 \n",
       " PDE  [ 0.01607 ] \n",
       " initial_condition 0.01270\n",
       " left 0.14959\n",
       " right 0.28863<p>Epoch 6/50 Losses 0.46661 \n",
       " PDE  [ 0.07540 ] \n",
       " initial_condition 0.04878\n",
       " left 0.16692\n",
       " right 0.17550<p>Epoch 7/50 Losses 0.42643 \n",
       " PDE  [ 0.06644 ] \n",
       " initial_condition 0.07653\n",
       " left 0.07534\n",
       " right 0.20812<p>Epoch 8/50 Losses 0.39300 \n",
       " PDE  [ 0.07737 ] \n",
       " initial_condition 0.06319\n",
       " left 0.10031\n",
       " right 0.15213<p>Epoch 9/50 Losses 0.32869 \n",
       " PDE  [ 0.04978 ] \n",
       " initial_condition 0.04055\n",
       " left 0.06580\n",
       " right 0.17255<p>Epoch 10/50 Losses 0.34685 \n",
       " PDE  [ 0.11208 ] \n",
       " initial_condition 0.03632\n",
       " left 0.08198\n",
       " right 0.11646<p>Epoch 11/50 Losses 0.29911 \n",
       " PDE  [ 0.07614 ] \n",
       " initial_condition 0.04236\n",
       " left 0.05947\n",
       " right 0.12113<p>Epoch 12/50 Losses 0.26390 \n",
       " PDE  [ 0.04569 ] \n",
       " initial_condition 0.01961\n",
       " left 0.06243\n",
       " right 0.13618<p>Epoch 13/50 Losses 0.25410 \n",
       " PDE  [ 0.08571 ] \n",
       " initial_condition 0.02679\n",
       " left 0.05140\n",
       " right 0.09021<p>Epoch 14/50 Losses 0.25471 \n",
       " PDE  [ 0.10957 ] \n",
       " initial_condition 0.02102\n",
       " left 0.05069\n",
       " right 0.07345<p>Epoch 15/50 Losses 0.22467 \n",
       " PDE  [ 0.06203 ] \n",
       " initial_condition 0.02546\n",
       " left 0.04395\n",
       " right 0.09324<p>Epoch 16/50 Losses 0.20545 \n",
       " PDE  [ 0.04953 ] \n",
       " initial_condition 0.01874\n",
       " left 0.04150\n",
       " right 0.09568<p>Epoch 17/50 Losses 0.21366 \n",
       " PDE  [ 0.09322 ] \n",
       " initial_condition 0.02978\n",
       " left 0.02798\n",
       " right 0.06270<p>Epoch 18/50 Losses 0.20388 \n",
       " PDE  [ 0.08242 ] \n",
       " initial_condition 0.02230\n",
       " left 0.02750\n",
       " right 0.07166<p>Epoch 19/50 Losses 0.18962 \n",
       " PDE  [ 0.05768 ] \n",
       " initial_condition 0.01631\n",
       " left 0.03235\n",
       " right 0.08328<p>Epoch 20/50 Losses 0.18397 \n",
       " PDE  [ 0.07032 ] \n",
       " initial_condition 0.02484\n",
       " left 0.02753\n",
       " right 0.06129<p>Epoch 21/50 Losses 0.18240 \n",
       " PDE  [ 0.06498 ] \n",
       " initial_condition 0.02713\n",
       " left 0.03122\n",
       " right 0.05908<p>Epoch 22/50 Losses 0.17300 \n",
       " PDE  [ 0.04059 ] \n",
       " initial_condition 0.02115\n",
       " left 0.03339\n",
       " right 0.07786<p>Epoch 23/50 Losses 0.16005 \n",
       " PDE  [ 0.03645 ] \n",
       " initial_condition 0.02364\n",
       " left 0.02824\n",
       " right 0.07172<p>Epoch 24/50 Losses 0.15235 \n",
       " PDE  [ 0.05308 ] \n",
       " initial_condition 0.02507\n",
       " left 0.01966\n",
       " right 0.05454<p>Epoch 25/50 Losses 0.12967 \n",
       " PDE  [ 0.03252 ] \n",
       " initial_condition 0.02196\n",
       " left 0.01502\n",
       " right 0.06017<p>Epoch 26/50 Losses 0.14459 \n",
       " PDE  [ 0.04954 ] \n",
       " initial_condition 0.02047\n",
       " left 0.01405\n",
       " right 0.06054<p>Epoch 27/50 Losses 0.12780 \n",
       " PDE  [ 0.03927 ] \n",
       " initial_condition 0.02230\n",
       " left 0.01777\n",
       " right 0.04846<p>Epoch 28/50 Losses 0.12430 \n",
       " PDE  [ 0.03896 ] \n",
       " initial_condition 0.02123\n",
       " left 0.01320\n",
       " right 0.05092<p>Epoch 29/50 Losses 0.10986 \n",
       " PDE  [ 0.02084 ] \n",
       " initial_condition 0.02243\n",
       " left 0.00979\n",
       " right 0.05680<p>Epoch 30/50 Losses 0.10366 \n",
       " PDE  [ 0.02264 ] \n",
       " initial_condition 0.02183\n",
       " left 0.00827\n",
       " right 0.05092<p>Epoch 31/50 Losses 0.10231 \n",
       " PDE  [ 0.02803 ] \n",
       " initial_condition 0.01855\n",
       " left 0.00433\n",
       " right 0.05139<p>Epoch 32/50 Losses 0.12385 \n",
       " PDE  [ 0.02562 ] \n",
       " initial_condition 0.01625\n",
       " left 0.02200\n",
       " right 0.05998<p>Epoch 33/50 Losses 0.11654 \n",
       " PDE  [ 0.02789 ] \n",
       " initial_condition 0.01743\n",
       " left 0.01437\n",
       " right 0.05685<p>Epoch 34/50 Losses 0.10362 \n",
       " PDE  [ 0.02050 ] \n",
       " initial_condition 0.01958\n",
       " left 0.00911\n",
       " right 0.05443<p>Epoch 35/50 Losses 0.10119 \n",
       " PDE  [ 0.01421 ] \n",
       " initial_condition 0.01797\n",
       " left 0.01213\n",
       " right 0.05687<p>Epoch 36/50 Losses 0.09622 \n",
       " PDE  [ 0.01401 ] \n",
       " initial_condition 0.01909\n",
       " left 0.01042\n",
       " right 0.05270<p>Epoch 37/50 Losses 0.09549 \n",
       " PDE  [ 0.01873 ] \n",
       " initial_condition 0.01865\n",
       " left 0.00715\n",
       " right 0.05096<p>Epoch 38/50 Losses 0.08982 \n",
       " PDE  [ 0.01581 ] \n",
       " initial_condition 0.01680\n",
       " left 0.00437\n",
       " right 0.05284<p>Epoch 39/50 Losses 0.09750 \n",
       " PDE  [ 0.02616 ] \n",
       " initial_condition 0.01670\n",
       " left 0.00461\n",
       " right 0.05003<p>Epoch 40/50 Losses 0.09025 \n",
       " PDE  [ 0.02024 ] \n",
       " initial_condition 0.01579\n",
       " left 0.00415\n",
       " right 0.05007<p>Epoch 41/50 Losses 0.08440 \n",
       " PDE  [ 0.01574 ] \n",
       " initial_condition 0.01740\n",
       " left 0.00381\n",
       " right 0.04744<p>Epoch 42/50 Losses 0.08520 \n",
       " PDE  [ 0.01612 ] \n",
       " initial_condition 0.01765\n",
       " left 0.00276\n",
       " right 0.04868<p>Epoch 43/50 Losses 0.08427 \n",
       " PDE  [ 0.01336 ] \n",
       " initial_condition 0.01693\n",
       " left 0.00425\n",
       " right 0.04973<p>Epoch 44/50 Losses 0.08172 \n",
       " PDE  [ 0.01373 ] \n",
       " initial_condition 0.01744\n",
       " left 0.00303\n",
       " right 0.04752<p>Epoch 45/50 Losses 0.08220 \n",
       " PDE  [ 0.01375 ] \n",
       " initial_condition 0.01785\n",
       " left 0.00428\n",
       " right 0.04633<p>Epoch 46/50 Losses 0.08029 \n",
       " PDE  [ 0.01042 ] \n",
       " initial_condition 0.01634\n",
       " left 0.00436\n",
       " right 0.04917<p>Epoch 47/50 Losses 0.08861 \n",
       " PDE  [ 0.02073 ] \n",
       " initial_condition 0.01849\n",
       " left 0.00468\n",
       " right 0.04470<p>Epoch 48/50 Losses 0.08373 \n",
       " PDE  [ 0.00994 ] \n",
       " initial_condition 0.01608\n",
       " left 0.00615\n",
       " right 0.05155<p>Epoch 49/50 Losses 0.07765 \n",
       " PDE  [ 0.01155 ] \n",
       " initial_condition 0.01745\n",
       " left 0.00271\n",
       " right 0.04593<p>Epoch 50/50 Losses 0.08314 \n",
       " PDE  [ 0.01533 ] \n",
       " initial_condition 0.02100\n",
       " left 0.00545\n",
       " right 0.04136"
      ],
      "text/plain": [
       "<IPython.core.display.HTML object>"
      ]
     },
     "metadata": {},
     "output_type": "display_data"
    },
    {
     "name": "stderr",
     "output_type": "stream",
     "text": [
      "/home/sebastianm/.local/lib/python3.7/site-packages/numpy/core/fromnumeric.py:3257: RuntimeWarning: Mean of empty slice.\n",
      "  out=out, **kwargs)\n",
      "/home/sebastianm/.local/lib/python3.7/site-packages/numpy/core/_methods.py:161: RuntimeWarning: invalid value encountered in double_scalars\n",
      "  ret = ret.dtype.type(ret / rcount)\n"
     ]
    }
   ],
   "source": [
    "# find the solution\n",
    "hist = pde.solve(epochs=50) "
   ]
  },
  {
   "cell_type": "code",
   "execution_count": 7,
   "metadata": {
    "ExecuteTime": {
     "end_time": "2020-02-04T11:41:57.866346Z",
     "start_time": "2020-02-04T11:41:57.379530Z"
    },
    "scrolled": true
   },
   "outputs": [
    {
     "data": {
      "image/png": "[encoded data removed]",
      "text/plain": [
       "<Figure size 1080x360 with 2 Axes>"
      ]
     },
     "metadata": {
      "needs_background": "light"
     },
     "output_type": "display_data"
    }
   ],
   "source": [
    "fig, (ax1, ax2) = plt.subplots(1, 2, figsize=(15,5))\n",
    "ax1.plot(hist['train_loss'], label=\"train_loss\")\n",
    "ax1.grid(True)\n",
    "ax1.legend()\n",
    "ax1.set_yscale(\"log\")\n",
    "for boco in pde.bocos:\n",
    "    ax2.plot(hist['bocos'][boco.name], label=boco.name)\n",
    "ax2.legend()\n",
    "ax2.grid(True)\n",
    "ax2.set_yscale(\"log\")\n",
    "plt.show()"
   ]
  },
  {
   "cell_type": "code",
   "execution_count": 8,
   "metadata": {
    "ExecuteTime": {
     "end_time": "2020-02-04T11:42:10.188728Z",
     "start_time": "2020-02-04T11:41:57.867642Z"
    }
   },
   "outputs": [],
   "source": [
    "# evaluate the solution\n",
    "x = np.linspace(0, 1, 10)\n",
    "\n",
    "t = np.linspace(0, 10, 10)\n",
    "p = []\n",
    "for _t in t:\n",
    "    pde.evaluate({'x': x, 't': np.array([_t])})\n",
    "    _p = pde.outputs['p']\n",
    "    p.append(_p)\n",
    "\n",
    "a = p[0]\n",
    "file = open(\"heat1D.txt\", \"w\")\n",
    "s = 0\n",
    "for e in range(0, 10):\n",
    "    a = p[e]\n",
    "    file.write(\"t = \"+str(e)+\"\\n\")\n",
    "    for i in range(0, 10):\n",
    "        file.write(str(i)+\", \"+str(a[s])+\"\\n\")\n",
    "        s += 1\n",
    "\n",
    "    s = 0\n",
    "file.close() \n",
    "\n",
    "file = open(\"heat1Dexact.txt\", \"w\")\n",
    "for e in range(0, 10):\n",
    "    file.write(\"t = \"+str(e)+\"\\n\")\n",
    "    for i in range(0, 10):\n",
    "        file.write(str(i)+\", \"+str(np.sin(math.pi * i * 0.1 / 2.0) * math.exp(-math.pi**2 * e / 4)) + \"\\n\")\n",
    "        \n",
    "file.close()\n",
    "    \n"
   ]
  },
  {
   "cell_type": "code",
   "execution_count": 9,
   "metadata": {
    "ExecuteTime": {
     "end_time": "2020-02-04T11:42:15.058834Z",
     "start_time": "2020-02-04T11:42:10.189953Z"
    }
   },
   "outputs": [
    {
     "ename": "NameError",
     "evalue": "name 'anim' is not defined",
     "output_type": "error",
     "traceback": [
      "\u001b[0;31m---------------------------------------------------------------------------\u001b[0m",
      "\u001b[0;31mNameError\u001b[0m                                 Traceback (most recent call last)",
      "\u001b[0;32m<ipython-input-9-027b5d0310db>\u001b[0m in \u001b[0;36m<module>\u001b[0;34m\u001b[0m\n\u001b[0;32m----> 1\u001b[0;31m \u001b[0manim\u001b[0m\u001b[0;34m\u001b[0m\u001b[0;34m\u001b[0m\u001b[0m\n\u001b[0m",
      "\u001b[0;31mNameError\u001b[0m: name 'anim' is not defined"
     ]
    }
   ],
   "source": [
    "anim"
   ]
  },
  {
   "cell_type": "code",
   "execution_count": 17,
   "metadata": {},
   "outputs": [
    {
     "name": "stdout",
     "output_type": "stream",
     "text": [
      "(100, 400)\n"
     ]
    }
   ],
   "source": [
    "print(np.shape(p))"
   ]
  },
  {
   "cell_type": "code",
   "execution_count": null,
   "metadata": {},
   "outputs": [],
   "source": []
  }
 ],
 "metadata": {
  "kernelspec": {
   "display_name": "Python 3",
   "language": "python",
   "name": "python3"
  },
  "language_info": {
   "codemirror_mode": {
    "name": "ipython",
    "version": 3
   },
   "file_extension": ".py",
   "mimetype": "text/x-python",
   "name": "python",
   "nbconvert_exporter": "python",
   "pygments_lexer": "ipython3",
   "version": "3.7.4"
  }
 },
 "nbformat": 4,
 "nbformat_minor": 2
}
